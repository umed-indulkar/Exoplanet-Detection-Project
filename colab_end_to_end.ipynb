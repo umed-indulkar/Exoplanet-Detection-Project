{
 "cells": [
  {
   "cell_type": "markdown",
   "metadata": {},
   "source": [
    "# Exoplanet Pipeline (Colab) — Real Data → ~900 TSFresh Features → Baseline ML → Siamese → Outputs\n",
    "\n",
    "This notebook installs dependencies, loads your data, extracts ~900+ TSFresh features, trains/evaluates a baseline model and a Siamese deep model, and lets you download outputs.\n",
    "\n",
    "Instructions:\n",
    "- Run each cell top-to-bottom.\n",
    "- When prompted to upload files, select your light curves (NPZ/CSV/FITS).\n",
    "- If you have labels, upload a CSV with columns: `source,label`.\n"
   ]
  },
  {
   "cell_type": "markdown",
   "metadata": {},
   "source": [
    "## 0) Runtime\n",
    "Optional: Runtime → Change runtime type → GPU. CPU also works."
   ]
  },
  {
   "cell_type": "code",
   "execution_count": null,
   "metadata": {},
   "outputs": [],
   "source": [
    "# 1) Install dependencies\n",
    "!pip -q install numpy pandas scipy pyyaml matplotlib seaborn tsfresh statsmodels scikit-learn optuna streamlit\n",
    "# Torch CPU wheel (works everywhere). If GPU torch is already present, you can skip or adjust.\n",
    "!pip -q install torch --index-url https://download.pytorch.org/whl/cpu"
   ]
  },
  {
   "cell_type": "markdown",
   "metadata": {},
   "source": [
    "## 2) Get the code\n",
    "Set your repository URL below."
   ]
  },
  {
   "cell_type": "code",
   "execution_count": null,
   "metadata": {},
   "outputs": [],
   "source": [
    "REPO_URL = 'YOUR_REPO_URL'  # e.g., https://github.com/you/exocode.git\n",
    "\n",
    "import os, shutil\n",
    "if os.path.exists('exocode'):\n",
    "    shutil.rmtree('exocode')\n",
    "!git clone $REPO_URL exocode\n",
    "%cd exocode\n",
    "!python simple_test.py || true"
   ]
  },
  {
   "cell_type": "markdown",
   "metadata": {},
   "source": [
    "## 3) Add your real data\n",
    "Upload NPZ/CSV/FITS to the `data/` folder."
   ]
  },
  {
   "cell_type": "code",
   "execution_count": null,
   "metadata": {},
   "outputs": [],
   "source": [
    "from google.colab import files\n",
    "from pathlib import Path\n",
    "import shutil\n",
    "Path('data').mkdir(exist_ok=True)\n",
    "print('Upload your .npz/.csv/.fits files now:')\n",
    "uploaded = files.upload()\n",
    "for name in uploaded:\n",
    "    shutil.move(name, f'data/{name}')\n",
    "print('Files in data/:', list(Path('data').glob('*'))[:5], '...')"
   ]
  },
  {
   "cell_type": "markdown",
   "metadata": {},
   "source": [
    "## 4) Extract TSFresh comprehensive features (~900+)\n",
    "This uses the CLI with the comprehensive preset."
   ]
  },
  {
   "cell_type": "code",
   "execution_count": null,
   "metadata": {},
   "outputs": [],
   "source": [
    "!python -m exodet.cli extract \\\n--input \"data/*\" \\\n--output outputs/features_tsfresh_comprehensive.csv \\\n--tier tsfresh \\\n--tsfresh-params comprehensive \\\n--workers 4\n",
    "\n",
    "import pandas as pd\n",
    "df = pd.read_csv('outputs/features_tsfresh_comprehensive.csv')\n",
    "print('Features shape:', df.shape)\n",
    "df.head(3)"]
  },
  {
   "cell_type": "markdown",
   "metadata": {},
   "source": [
    "## 5) (Optional) Merge labels for supervised training\n",
    "Upload a CSV with columns: `source,label`. `source` must match the `source` column in features."
   ]
  },
  {
   "cell_type": "code",
   "execution_count": null,
   "metadata": {},
   "outputs": [],
   "source": [
    "from google.colab import files\n",
    "from pathlib import Path\n",
    "import pandas as pd\n",
    "print('Upload labels.csv with columns: source,label (optional)')\n",
    "labels_up = files.upload()\n",
    "if labels_up:\n",
    "    Path('labels').mkdir(exist_ok=True)\n",
    "    for name in labels_up:\n",
    "        shutil.move(name, f'labels/{name}')\n",
    "    features = pd.read_csv('outputs/features_tsfresh_comprehensive.csv')\n",
    "    labels = pd.read_csv('labels/labels.csv')\n",
    "    merged = features.merge(labels, on='source', how='inner')\n",
    "    Path('outputs').mkdir(exist_ok=True)\n",
    "    merged.to_csv('outputs/features_labeled.csv', index=False)\n",
    "    print('Labeled features shape:', merged.shape)\n",
    "else:\n",
    "    print('No labels uploaded; you can still inspect features or skip supervised steps.')\n"
   ]
  },
  {
   "cell_type": "markdown",
   "metadata": {},
   "source": [
    "## 6) Baseline ML training/evaluation (RandomForest)"
   ]
  },
  {
   "cell_type": "code",
   "execution_count": null,
   "metadata": {},
   "outputs": [],
   "source": [
    "# Train (requires outputs/features_labeled.csv with a label column)\n",
    "!test -f outputs/features_labeled.csv && \\\npython -m exodet.cli train --features outputs/features_labeled.csv --target label --model rf --output runs/rf.joblib || echo 'Skip: no labeled features'\n",
    "\n",
    "# Evaluate on same file (quick check)\n",
    "!test -f runs/rf.joblib && \\\npython -m exodet.cli evaluate --model runs/rf.joblib --features outputs/features_labeled.csv --target label || echo 'Skip: no model or labeled features'"
   ]
  },
  {
   "cell_type": "markdown",
   "metadata": {},
   "source": [
    "## 7) Siamese model training/evaluation (deep)"
   ]
  },
  {
   "cell_type": "code",
   "execution_count": null,
   "metadata": {},
   "outputs": [],
   "source": [
    "# Train Siamese (uses labeled features)\n",
    "!test -f outputs/features_labeled.csv && \\\npython -m exodet.cli train-siamese --features outputs/features_labeled.csv --target label --epochs 10 --embedding 32 --device auto --output runs/siamese.pt || echo 'Skip: no labeled features'\n",
    "\n",
    "# Evaluate Siamese\n",
    "!test -f runs/siamese.pt && \\\npython -m exodet.cli evaluate-siamese --model runs/siamese.pt --features outputs/features_labeled.csv --target label --device auto || echo 'Skip: no Siamese model or labeled features'"
   ]
  },
  {
   "cell_type": "markdown",
   "metadata": {},
   "source": [
    "## 8) Download outputs"
   ]
  },
  {
   "cell_type": "code",
   "execution_count": null,
   "metadata": {},
   "outputs": [],
   "source": [
    "from google.colab import files\n",
    "from pathlib import Path\n",
    "for p in ['outputs/features_tsfresh_comprehensive.csv', 'outputs/features_labeled.csv', 'runs/rf.joblib', 'runs/siamese.pt']:\n",
    "    path = Path(p)\n",
    "    if path.exists():\n",
    "        files.download(str(path))\n",
    "    else:\n",
    "        print('Not found (skipped):', p)"
   ]
  }
 ],
 "metadata": {
  "kernelspec": {
   "display_name": "Python 3",
   "language": "python",
   "name": "python3"
  },
  "language_info": {
   "name": "python",
   "version": "3"
  }
 },
 "nbformat": 4,
 "nbformat_minor": 5
}
