{
 "cells": [
  {
   "cell_type": "markdown",
   "metadata": {},
   "source": [
    "# Feature Visualization and Analysis\n",
    "This notebook visualizes extracted features and their importance for classification."
   ]
  },
  {
   "cell_type": "code",
   "execution_count": null,
   "metadata": {},
   "outputs": [],
   "source": [
    "import sys\n",
    "import os\n",
    "sys.path.append('../src')\n",
    "\n",
    "import numpy as np\n",
    "import pandas as pd\n",
    "import matplotlib.pyplot as plt\n",
    "import seaborn as sns\n",
    "from sklearn.preprocessing import StandardScaler\n",
    "from sklearn.decomposition import PCA\n",
    "from sklearn.manifold import TSNE\n",
    "\n",
    "plt.style.use('seaborn-v0_8-darkgrid')\n",
    "sns.set_palette('husl')"
   ]
  },
  {
   "cell_type": "markdown",
   "metadata": {},
   "source": [
    "## Load Extracted Features"
   ]
  },
  {
   "cell_type": "code",
   "execution_count": null,
   "metadata": {},
   "outputs": [],
   "source": [
    "# Load features\n",
    "features_path = '../data/features/train_features.csv'\n",
    "features_df = pd.read_csv(features_path)\n",
    "\n",
    "print(f\"Features shape: {features_df.shape}\")\n",
    "print(f\"\\nFeature columns ({len(features_df.columns)-1} features):\")\n",
    "print(features_df.columns.tolist()[:10])\n",
    "\n",
    "# Separate features and labels\n",
    "feature_cols = [col for col in features_df.columns if col != 'LABEL']\n",
    "X = features_df[feature_cols].values\n",
    "y = features_df['LABEL'].values\n",
    "\n",
    "print(f\"\\nLabel distribution:\")\n",
    "print(pd.Series(y).value_counts())"
   ]
  },
  {
   "cell_type": "markdown",
   "metadata": {},
   "source": [
    "## Feature Importance Analysis"
   ]
  },
  {
   "cell_type": "code",
   "execution_count": null,
   "metadata": {},
   "outputs": [],
   "source": [
    "from sklearn.ensemble import RandomForestClassifier\n",
    "\n",
    "# Train a random forest to get feature importance\n",
    "rf = RandomForestClassifier(n_estimators=100, random_state=42)\n",
    "rf.fit(X, y)\n",
    "\n",
    "# Get feature importance\n",
    "importance = pd.DataFrame({\n",
    "    'feature': feature_cols,\n",
    "    'importance': rf.feature_importances_\n",
    "}).sort_values('importance', ascending=False)\n",
    "\n",
    "# Plot top 20 features\n",
    "plt.figure(figsize=(10, 8))\n",
    "top_features = importance.head(20)\n",
    "plt.barh(range(len(top_features)), top_features['importance'].values)\n",
    "plt.yticks(range(len(top_features)), top_features['feature'].values)\n",
    "plt.xlabel('Feature Importance')\n",
    "plt.title('Top 20 Most Important Features')\n",
    "plt.tight_layout()\n",
    "plt.show()\n",
    "\n",
    "print(\"Top 10 most important features:\")\n",
    "print(importance.head(10))"
   ]
  },
  {
   "cell_type": "markdown",
   "metadata": {},
   "source": [
    "## Feature Correlation Analysis"
   ]
  },
  {
   "cell_type": "code",
   "execution_count": null,
   "metadata": {},
   "outputs": [],
   "source": [
    "# Calculate correlation matrix for top features\n",
    "top_feature_names = importance.head(15)['feature'].values\n",
    "top_features_data = features_df[top_feature_names]\n",
    "\n",
    "# Compute correlation matrix\n",
    "corr_matrix = top_features_data.corr()\n",
    "\n",
    "# Plot heatmap\n",
    "plt.figure(figsize=(12, 10))\n",
    "sns.heatmap(corr_matrix, annot=True, fmt='.2f', cmap='coolwarm', \n",
    "            center=0, square=True, linewidths=1)\n",
    "plt.title('Feature Correlation Matrix (Top 15 Features)')\n",
    "plt.tight_layout()\n",
    "plt.show()"
   ]
  },
  {
   "cell_type": "markdown",
   "metadata": {},
   "source": [
    "## PCA Visualization"
   ]
  },
  {
   "cell_type": "code",
   "execution_count": null,
   "metadata": {},
   "outputs": [],
   "source": [
    "# Standardize features\n",
    "scaler = StandardScaler()\n",
    "X_scaled = scaler.fit_transform(X)\n",
    "\n",
    "# Apply PCA\n",
    "pca = PCA(n_components=2)\n",
    "X_pca = pca.fit_transform(X_scaled)\n",
    "\n",
    "# Plot\n",
    "plt.figure(figsize=(10, 8))\n",
    "colors = ['blue', 'red']\n",
    "labels = ['No Planet', 'Planet']\n",
    "\n",
    "for i, label_val in enumerate([1, 2]):\n",
    "    mask = y == label_val\n",
    "    plt.scatter(X_pca[mask, 0], X_pca[mask, 1], \n",
    "               c=colors[i], label=labels[i], alpha=0.6, s=30)\n",
    "\n",
    "plt.xlabel(f'PC1 ({pca.explained_variance_ratio_[0]:.2%} variance)')\n",
    "plt.ylabel(f'PC2 ({pca.explained_variance_ratio_[1]:.2%} variance)')\n",
    "plt.title('PCA Visualization of Features')\n",
    "plt.legend()\n",
    "plt.grid(True, alpha=0.3)\n",
    "plt.show()\n",
    "\n",
    "print(f\"Total variance explained: {sum(pca.explained_variance_ratio_):.2%}\")"
   ]
  },
  {
   "cell_type": "markdown",
   "metadata": {},
   "source": [
    "## t-SNE Visualization"
   ]
  },
  {
   "cell_type": "code",
   "execution_count": null,
   "metadata": {},
   "outputs": [],
   "source": [
    "# Apply t-SNE (on a subset for speed)\n",
    "sample_size = min(1000, len(X))\n",
    "indices = np.random.choice(len(X), sample_size, replace=False)\n",
    "X_sample = X_scaled[indices]\n",
    "y_sample = y[indices]\n",
    "\n",
    "tsne = TSNE(n_components=2, random_state=42, perplexity=30)\n",
    "X_tsne = tsne.fit_transform(X_sample)\n",
    "\n",
    "# Plot\n",
    "plt.figure(figsize=(10, 8))\n",
    "\n",
    "for i, label_val in enumerate([1, 2]):\n",
    "    mask = y_sample == label_val\n",
    "    plt.scatter(X_tsne[mask, 0], X_tsne[mask, 1], \n",
    "               c=colors[i], label=labels[i], alpha=0.6, s=30)\n",
    "\n",
    "plt.xlabel('t-SNE Dimension 1')\n",
    "plt.ylabel('t-SNE Dimension 2')\n",
    "plt.title('t-SNE Visualization of Features')\n",
    "plt.legend()\n",
    "plt.grid(True, alpha=0.3)\n",
    "plt.show()"
   ]
  },
  {
   "cell_type": "markdown",
   "metadata": {},
   "source": [
    "## Feature Distribution by Class"
   ]
  },
  {
   "cell_type": "code",
   "execution_count": null,
   "metadata": {},
   "outputs": [],
   "source": [
    "# Plot distributions of top features\n",
    "fig, axes = plt.subplots(3, 3, figsize=(15, 12))\n",
    "axes = axes.ravel()\n",
    "\n",
    "top_9_features = importance.head(9)['feature'].values\n",
    "\n",
    "for i, feature in enumerate(top_9_features):\n",
    "    planet_values = features_df[features_df['LABEL'] == 2][feature]\n",
    "    no_planet_values = features_df[features_df['LABEL'] == 1][feature]\n",
    "    \n",
    "    axes[i].hist(planet_values, bins=30, alpha=0.5, label='Planet', color='blue', density=True)\n",
    "    axes[i].hist(no_planet_values, bins=30, alpha=0.5, label='No Planet', color='red', density=True)\n",
    "    axes[i].set_xlabel(feature)\n",
    "    axes[i].set_ylabel('Density')\n",
    "    axes[i].legend()\n",
    "    axes[i].grid(True, alpha=0.3)\n",
    "\n",
    "plt.suptitle('Feature Distributions by Class', fontsize=16)\n",
    "plt.tight_layout()\n",
    "plt.show()"
   ]
  },
  {
   "cell_type": "markdown",
   "metadata": {},
   "source": [
    "## Transit-Specific Features Analysis"
   ]
  },
  {
   "cell_type": "code",
   "execution_count": null,
   "metadata": {},
   "outputs": [],
   "source": [
    "# Analyze transit-specific features\n",
    "transit_features = [col for col in feature_cols if 'transit' in col.lower()]\n",
    "print(f\"Transit-specific features: {transit_features}\")\n",
    "\n",
    "if transit_features:\n",
    "    # Compare transit features between classes\n",
    "    transit_comparison = pd.DataFrame()\n",
    "    \n",
    "    for feature in transit_features:\n",
    "        transit_comparison[feature] = [\n",
    "            features_df[features_df['LABEL'] == 1][feature].mean(),\n",
    "            features_df[features_df['LABEL'] == 2][feature].mean()\n",
    "        ]\n",
    "    \n",
    "    transit_comparison.index = ['No Planet', 'Planet']\n",
    "    \n",
    "    # Plot comparison\n",
    "    plt.figure(figsize=(12, 6))\n",
    "    transit_comparison.T.plot(kind='bar')\n",
    "    plt.xlabel('Transit Features')\n",
    "    plt.ylabel('Mean Value')\n",
    "    plt.title('Transit Feature Comparison by Class')\n",
    "    plt.xticks(rotation=45, ha='right')\n",
    "    plt.legend(title='Class')\n",
    "    plt.tight_layout()\n",
    "    plt.show()\n",
    "    \n",
    "    print(\"\\nTransit feature statistics:\")\n",
    "    print(transit_comparison)"
   ]
  }
 ],
 "metadata": {
  "kernelspec": {
   "display_name": "Python 3",
   "language": "python",
   "name": "python3"
  },
  "language_info": {
   "codemirror_mode": {
    "name": "ipython",
    "version": 3
   },
   "file_extension": ".py",
   "mimetype": "text/x-python",
   "name": "python",
   "nbconvert_exporter": "python",
   "pygments_lexer": "ipython3",
   "version": "3.8.0"
  }
 },
 "nbformat": 4,
 "nbformat_minor": 4
}
