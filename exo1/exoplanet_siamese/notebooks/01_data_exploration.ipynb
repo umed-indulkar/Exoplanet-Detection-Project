{
 "cells": [
  {
   "cell_type": "markdown",
   "metadata": {},
   "source": [
    "# Data Exploration for Exoplanet Detection\n",
    "This notebook explores the raw light curve data and visualizes key patterns."
   ]
  },
  {
   "cell_type": "code",
   "execution_count": null,
   "metadata": {},
   "outputs": [],
   "source": [
    "import sys\n",
    "import os\n",
    "sys.path.append('../src')\n",
    "\n",
    "import numpy as np\n",
    "import pandas as pd\n",
    "import matplotlib.pyplot as plt\n",
    "import seaborn as sns\n",
    "from utils import plot_light_curve\n",
    "\n",
    "# Set style\n",
    "plt.style.use('seaborn-v0_8-darkgrid')\n",
    "sns.set_palette('husl')"
   ]
  },
  {
   "cell_type": "markdown",
   "metadata": {},
   "source": [
    "## Load Raw Data"
   ]
  },
  {
   "cell_type": "code",
   "execution_count": null,
   "metadata": {},
   "outputs": [],
   "source": [
    "# Load data\n",
    "data_path = '../data/raw/exoTest.csv'\n",
    "df = pd.read_csv(data_path)\n",
    "\n",
    "print(f\"Data shape: {df.shape}\")\n",
    "print(f\"\\nColumns: {df.columns.tolist()[:10]}...\")\n",
    "print(f\"\\nLabel distribution:\")\n",
    "print(df['LABEL'].value_counts())"
   ]
  },
  {
   "cell_type": "markdown",
   "metadata": {},
   "source": [
    "## Visualize Sample Light Curves"
   ]
  },
  {
   "cell_type": "code",
   "execution_count": null,
   "metadata": {},
   "outputs": [],
   "source": [
    "# Get flux columns\n",
    "flux_columns = [col for col in df.columns if col.startswith('FLUX')]\n",
    "print(f\"Number of flux measurements: {len(flux_columns)}\")\n",
    "\n",
    "# Plot examples from each class\n",
    "fig, axes = plt.subplots(2, 2, figsize=(15, 10))\n",
    "\n",
    "# Planet examples (Label = 2)\n",
    "planet_samples = df[df['LABEL'] == 2].sample(2)\n",
    "for i, (idx, row) in enumerate(planet_samples.iterrows()):\n",
    "    flux = row[flux_columns].values\n",
    "    axes[0, i].plot(flux, 'b-', linewidth=0.5)\n",
    "    axes[0, i].set_title(f'Planet Light Curve (Index: {idx})')\n",
    "    axes[0, i].set_xlabel('Time')\n",
    "    axes[0, i].set_ylabel('Flux')\n",
    "    axes[0, i].grid(True, alpha=0.3)\n",
    "\n",
    "# Non-planet examples (Label = 1)\n",
    "no_planet_samples = df[df['LABEL'] == 1].sample(2)\n",
    "for i, (idx, row) in enumerate(no_planet_samples.iterrows()):\n",
    "    flux = row[flux_columns].values\n",
    "    axes[1, i].plot(flux, 'r-', linewidth=0.5)\n",
    "    axes[1, i].set_title(f'No Planet Light Curve (Index: {idx})')\n",
    "    axes[1, i].set_xlabel('Time')\n",
    "    axes[1, i].set_ylabel('Flux')\n",
    "    axes[1, i].grid(True, alpha=0.3)\n",
    "\n",
    "plt.tight_layout()\n",
    "plt.show()"
   ]
  },
  {
   "cell_type": "markdown",
   "metadata": {},
   "source": [
    "## Statistical Analysis"
   ]
  },
  {
   "cell_type": "code",
   "execution_count": null,
   "metadata": {},
   "outputs": [],
   "source": [
    "# Calculate basic statistics for each class\n",
    "stats_by_class = {}\n",
    "\n",
    "for label in df['LABEL'].unique():\n",
    "    class_data = df[df['LABEL'] == label][flux_columns]\n",
    "    \n",
    "    stats_by_class[label] = {\n",
    "        'mean': class_data.mean().mean(),\n",
    "        'std': class_data.std().mean(),\n",
    "        'min': class_data.min().min(),\n",
    "        'max': class_data.max().max(),\n",
    "        'median': class_data.median().median()\n",
    "    }\n",
    "\n",
    "stats_df = pd.DataFrame(stats_by_class).T\n",
    "stats_df.index = ['No Planet', 'Planet']\n",
    "print(\"\\nStatistics by Class:\")\n",
    "print(stats_df)"
   ]
  },
  {
   "cell_type": "markdown",
   "metadata": {},
   "source": [
    "## Flux Distribution Analysis"
   ]
  },
  {
   "cell_type": "code",
   "execution_count": null,
   "metadata": {},
   "outputs": [],
   "source": [
    "# Plot flux distributions\n",
    "fig, axes = plt.subplots(1, 2, figsize=(12, 5))\n",
    "\n",
    "# Sample data for visualization\n",
    "sample_size = 100\n",
    "planet_fluxes = df[df['LABEL'] == 2][flux_columns].sample(sample_size).values.flatten()\n",
    "no_planet_fluxes = df[df['LABEL'] == 1][flux_columns].sample(sample_size).values.flatten()\n",
    "\n",
    "# Histogram\n",
    "axes[0].hist(planet_fluxes, bins=50, alpha=0.5, label='Planet', color='blue')\n",
    "axes[0].hist(no_planet_fluxes, bins=50, alpha=0.5, label='No Planet', color='red')\n",
    "axes[0].set_xlabel('Flux Value')\n",
    "axes[0].set_ylabel('Frequency')\n",
    "axes[0].set_title('Flux Distribution by Class')\n",
    "axes[0].legend()\n",
    "\n",
    "# Box plot\n",
    "axes[1].boxplot([planet_fluxes, no_planet_fluxes], labels=['Planet', 'No Planet'])\n",
    "axes[1].set_ylabel('Flux Value')\n",
    "axes[1].set_title('Flux Distribution Box Plot')\n",
    "\n",
    "plt.tight_layout()\n",
    "plt.show()"
   ]
  },
  {
   "cell_type": "markdown",
   "metadata": {},
   "source": [
    "## Transit Detection Visualization"
   ]
  },
  {
   "cell_type": "code",
   "execution_count": null,
   "metadata": {},
   "outputs": [],
   "source": [
    "# Find and visualize potential transits\n",
    "planet_sample = df[df['LABEL'] == 2].iloc[0]\n",
    "flux = planet_sample[flux_columns].values\n",
    "\n",
    "# Detect dips (potential transits)\n",
    "median_flux = np.median(flux)\n",
    "std_flux = np.std(flux)\n",
    "threshold = median_flux - 2 * std_flux\n",
    "transit_mask = flux < threshold\n",
    "\n",
    "# Plot\n",
    "plt.figure(figsize=(15, 5))\n",
    "time = np.arange(len(flux))\n",
    "plt.plot(time, flux, 'b-', linewidth=0.5, label='Flux')\n",
    "plt.axhline(y=median_flux, color='g', linestyle='--', label='Median')\n",
    "plt.axhline(y=threshold, color='r', linestyle='--', label='Transit Threshold')\n",
    "plt.scatter(time[transit_mask], flux[transit_mask], color='red', s=10, label='Potential Transit')\n",
    "plt.xlabel('Time')\n",
    "plt.ylabel('Flux')\n",
    "plt.title('Transit Detection in Planet Light Curve')\n",
    "plt.legend()\n",
    "plt.grid(True, alpha=0.3)\n",
    "plt.show()\n",
    "\n",
    "print(f\"Transit points: {np.sum(transit_mask)} / {len(flux)} ({100*np.sum(transit_mask)/len(flux):.2f}%)\")\n",
    "print(f\"Estimated transit depth: {median_flux - np.mean(flux[transit_mask]):.2f}\")"
   ]
  }
 ],
 "metadata": {
  "kernelspec": {
   "display_name": "Python 3",
   "language": "python",
   "name": "python3"
  },
  "language_info": {
   "codemirror_mode": {
    "name": "ipython",
    "version": 3
   },
   "file_extension": ".py",
   "mimetype": "text/x-python",
   "name": "python",
   "nbconvert_exporter": "python",
   "pygments_lexer": "ipython3",
   "version": "3.8.0"
  }
 },
 "nbformat": 4,
 "nbformat_minor": 4
}
